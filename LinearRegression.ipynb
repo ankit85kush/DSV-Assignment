{
"nbformat": 4,
"nbformat_minor": 0,
"metadata": {
"colab": {
"provenance": [],
      "authorship_tag": "ABX9TyMRdtzJl7quU39Xd90D6opS",
      "authorship_tag": "ABX9TyPXLIUgLQij5+s3kO/dRpSW",
"include_colab_link": true
},
"kernelspec": {
@@ -28,46 +28,56 @@
},
{
"cell_type": "code",
      "execution_count": null,
      "execution_count": 5,
"metadata": {
"colab": {
"base_uri": "https://localhost:8080/"
},
"id": "PwiWL8YFCQV1",
        "outputId": "b5dcd36b-0d1c-4c80-b32e-ad4c5fb843ec"
        "outputId": "6d5396e8-04bf-4d9b-9c64-e7d53ccf0c4a"
},
"outputs": [
{
"output_type": "stream",
"name": "stdout",
"text": [
            "Mean Squared Error (MSE) on the test set: 87284861.23745248\n",
            "Enter years of experience to predict salary: 5\n",
            "\n",
            "Predicted Salary for 5.0 years of experience: $72,440.66\n",
            "\n",
            "Mean Squared Error (MSE) on the test set: 49830096.85590839\n",
"\n",
"Model Coefficients:\n",
            "Intercept: 53683.13777011001\n",
            "Slope (Coefficient for YearsExperience): 9292.54587533946\n"
            "Intercept: 25321.583011776813\n",
            "Slope (Coefficient for YearsExperience): 9423.815323030976\n",
            "\n",
            "\n",
            "\n"
          ]
        },
        {
          "output_type": "stream",
          "name": "stderr",
          "text": [
            "/usr/local/lib/python3.10/dist-packages/sklearn/base.py:493: UserWarning: X does not have valid feature names, but LinearRegression was fitted with feature names\n",
            "  warnings.warn(\n"
]
}
],
"source": [
        "import numpy as np\n",
"import pandas as pd\n",
"from sklearn.model_selection import train_test_split\n",
"from sklearn.linear_model import LinearRegression\n",
"from sklearn.metrics import mean_squared_error\n",
"\n",
        "# Generate a synthetic dataset\n",
        "np.random.seed(42)\n",
        "years_experience = np.random.normal(5, 2, 100)  # Mean years of experience is 5 with std dev of 2\n",
        "# Salary is roughly based on years of experience with some random noise\n",
        "salary = 50000 + (years_experience * 10000) + np.random.normal(0, 10000, 100)\n",
        "# Load the dataset from a CSV file\n",
        "data = pd.read_csv('Salary_Data.csv')\n",
"\n",
        "# Create a DataFrame\n",
        "data = pd.DataFrame({'YearsExperience': years_experience, 'Salary': salary})\n",
        "# Split the data into features and target\n",
        "X = data[['YearsExperience']]  # Features\n",
        "y = data['Salary']             # Target\n",
"\n",
"# Split the data into training and testing sets (80-20 split)\n",
        "X = data[['YearsExperience']]\n",
        "y = data['Salary']\n",
"X_train, X_test, y_train, y_test = train_test_split(X, y, test_size=0.2, random_state=42)\n",
"\n",
"# Initialize and train the linear regression model\n",
@@ -80,11 +90,21 @@
"# Calculate Mean Squared Error (MSE)\n",
"mse = mean_squared_error(y_test, y_pred)\n",
"\n",
        "# Display the results\n",
        "# Take user input for YearsExperience and predict Salary\n",
        "try:\n",
        "    user_years_experience = float(input(\"Enter years of experience to predict salary: \"))\n",
        "    user_salary_prediction = model.predict([[user_years_experience]])\n",
        "    print(f\"\\nPredicted Salary for {user_years_experience} years of experience: ${user_salary_prediction[0]:,.2f}\\n\")\n",
        "except ValueError:\n",
        "    print(\"\\nInvalid input. Please enter a numeric value for years of experience.\\n\")\n",
        "\n",
        "\n",
        "# Display model evaluation results\n",
"print(\"Mean Squared Error (MSE) on the test set:\", mse)\n",
"print(\"\\nModel Coefficients:\")\n",
"print(\"Intercept:\", model.intercept_)\n",
        "print(\"Slope (Coefficient for YearsExperience):\", model.coef_[0])\n"
        "print(\"Slope (Coefficient for YearsExperience):\", model.coef_[0])\n",
        "print(\"\\n\\n\")"
]
}
]
